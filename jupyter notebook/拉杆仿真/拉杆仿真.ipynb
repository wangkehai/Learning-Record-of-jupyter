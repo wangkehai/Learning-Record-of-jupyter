{
 "cells": [
  {
   "cell_type": "code",
   "execution_count": 90,
   "metadata": {},
   "outputs": [],
   "source": [
    "import math\n",
    "\n",
    "class Link(object):\n",
    "    def __init__(self,name,weight,length):\n",
    "        self.name = name;\n",
    "        self.weight = float(weight);\n",
    "        self.length = float(length);\n",
    "        \n",
    "    def linkPosition(self,startNode,angle):\n",
    "        self.startNode = startNode;\n",
    "        self.angle = angle;\n",
    "        \n",
    "    def weightNode(self):\n",
    "        x = self.startNode[0] + 0.5*self.length*math.cos(self.angle/180*math.pi)\n",
    "        y = self.startNode[1] + 0.5*self.length*math.sin(self.angle/180*math.pi)\n",
    "        return [x,y]\n",
    "        \n",
    "#     def setNode(self,firstNode,secondNode):\n",
    "#         self.firstNode = firstNode;\n",
    "#         self.secondNode = secondNode;\n",
    "        \n",
    "#     def weightNode(self):\n",
    "#         x = (self.firstNode[0] + self.secondNode[0])/2\n",
    "#         y = (self.firstNode[1] + self.secondNode[1])/2\n",
    "#         return [x,y]\n",
    "   \n",
    "    def output(self):\n",
    "        return('拉杆名:' + self.name + ',' + '重量:' + self.weight + ',' + '长度:' + self.length)\n",
    "#__str__用于格式化print（）语句\n",
    "    def __str__(self):\n",
    "        return f'{self.name},{self.weight},{self.length}'"
   ]
  },
  {
   "cell_type": "code",
   "execution_count": 88,
   "metadata": {},
   "outputs": [],
   "source": [
    "link1 = Link('L',250,1000)"
   ]
  },
  {
   "cell_type": "code",
   "execution_count": 89,
   "metadata": {},
   "outputs": [
    {
     "data": {
      "text/plain": [
       "'L 250.0'"
      ]
     },
     "execution_count": 89,
     "metadata": {},
     "output_type": "execute_result"
    }
   ],
   "source": [
    "link1.name + ' ' + str(link1.weight)"
   ]
  },
  {
   "cell_type": "code",
   "execution_count": 17,
   "metadata": {},
   "outputs": [],
   "source": [
    "link1.linkPosition([0,0],-45)"
   ]
  },
  {
   "cell_type": "code",
   "execution_count": 18,
   "metadata": {},
   "outputs": [
    {
     "data": {
      "text/plain": [
       "[353.5533905932738, -353.5533905932738]"
      ]
     },
     "execution_count": 18,
     "metadata": {},
     "output_type": "execute_result"
    }
   ],
   "source": [
    "link1.weightNode()"
   ]
  },
  {
   "cell_type": "code",
   "execution_count": 6,
   "metadata": {},
   "outputs": [],
   "source": [
    "# from Link import *\n",
    "\n",
    "class linkSys(object):\n",
    "    def __init__(self):\n",
    "        self.link_list = []\n",
    "        \n",
    "    def run(self):\n",
    "        self.load_data()\n",
    "        \n",
    "        while True:\n",
    "            self.show_menu()\n",
    "            \n",
    "            menu_number = input(\"请输入功能序号：\")\n",
    "            if menu_number == '1':\n",
    "                self.app_link()\n",
    "                \n",
    "            elif menu_number == '2':\n",
    "                self.del_link()\n",
    "                \n",
    "            elif menu_number == '3':\n",
    "                self.show()\n",
    "                \n",
    "            elif menu_number == '4':\n",
    "                self.save_link()\n",
    "                \n",
    "            elif menu_number == '5':\n",
    "                self.seach_link()\n",
    "                \n",
    "            elif menu_number == '6':\n",
    "                self.modify_link()\n",
    "                \n",
    "            elif menu_number == '7':\n",
    "                break\n",
    "                \n",
    "            else:\n",
    "                print(\"输入错误！\")\n",
    "                continue\n",
    "                \n",
    "    def load_data(self):\n",
    "        print(\"加载数据\")        \n",
    "                \n",
    "    def show_menu(self):\n",
    "        print(\"1:添加拉杆\")\n",
    "        print(\"2:删除拉杆\")\n",
    "        print(\"3:显示所有拉杆\")\n",
    "        print(\"4:保存\")\n",
    "        print(\"5:查询拉杆\")\n",
    "        print(\"6:修改拉杆\")\n",
    "        print(\"7:推出系统\")\n",
    "                \n",
    "    def app_link(self):\n",
    "        name = input(\"请输入需要添加的拉杆名\")\n",
    "        weight = input(\"请输入拉杆重量\")\n",
    "        length = input(\"请输入拉杆长度\")\n",
    "        \n",
    "        link = Link(name,weight,length)\n",
    "        self.link_list.append(link)\n",
    "        print(link)\n",
    "        \n",
    "    def del_link(self):\n",
    "        del_name = input(\"请输入要删除的拉杆名：\")\n",
    "        \n",
    "        for i in self.link_list:\n",
    "            if del_name == i.name:\n",
    "                self.link_list.remove(i)\n",
    "                break\n",
    "        else:\n",
    "                print(\"无此名称拉杆\")\n",
    "            \n",
    "    def show(self):\n",
    "        for i in self.link_list:\n",
    "            print(f'拉杆名:{i.name}')\n",
    "            print(f'拉杆重量:{i.weight}')\n",
    "            print(f'拉杆长度:{i.length}')\n",
    "            print('\\n')\n",
    "            \n",
    "    def save_link(self):\n",
    "        for i in range(len(self.link_list)):\n",
    "            with open('linkSys.txt','a',encoding='utf-8') as f:\n",
    "                f.write(str(self.link_list[i].output()) + '\\n')\n",
    "\n",
    "        print(\"已保存\")\n",
    "        \n",
    "    def seach_link(self):\n",
    "        seach_name = input('请输入要查询的拉杆名')\n",
    "        for i in self.link_list:\n",
    "            if seach_name == i.name:\n",
    "                print(f'拉杆名:{i.name}')\n",
    "                print(f'拉杆重量:{i.weight}')\n",
    "                print(f'拉杆长度:{i.length}')\n",
    "                print('\\n')\n",
    "                break\n",
    "        else:\n",
    "                print(\"无此名称拉杆\")\n",
    "                \n",
    "    def modify_link(self):\n",
    "        modify_name = input(\"请输入需要修改的拉杆名\")\n",
    "        for i in self.link_list:\n",
    "            if modify_name == i.name:\n",
    "                new_weight = input(\"请输入新的重量\")\n",
    "                new_length = input(\"请输入新的长度\")\n",
    "                i.weight = new_weight\n",
    "                i.length = new_length\n",
    "                print(f'修改的拉杆名：{i.name},修改的重量：{i.weight},修改的拉杆长度：{i.length}')\n",
    "                break\n",
    "        else:\n",
    "                print(\"无此名称拉杆\")"
   ]
  },
  {
   "cell_type": "code",
   "execution_count": 7,
   "metadata": {},
   "outputs": [
    {
     "name": "stdout",
     "output_type": "stream",
     "text": [
      "加载数据\n",
      "1:添加拉杆\n",
      "2:删除拉杆\n",
      "3:显示所有拉杆\n",
      "4:保存\n",
      "5:查询拉杆\n",
      "6:修改拉杆\n",
      "7:推出系统\n",
      "请输入功能序号：1\n",
      "请输入需要添加的拉杆名L1\n",
      "请输入拉杆重量1000\n",
      "请输入拉杆长度2000\n",
      "L1,1000.0,2000.0\n",
      "1:添加拉杆\n",
      "2:删除拉杆\n",
      "3:显示所有拉杆\n",
      "4:保存\n",
      "5:查询拉杆\n",
      "6:修改拉杆\n",
      "7:推出系统\n",
      "请输入功能序号：1\n",
      "请输入需要添加的拉杆名L2\n",
      "请输入拉杆重量1000\n",
      "请输入拉杆长度2000\n",
      "L2,1000.0,2000.0\n",
      "1:添加拉杆\n",
      "2:删除拉杆\n",
      "3:显示所有拉杆\n",
      "4:保存\n",
      "5:查询拉杆\n",
      "6:修改拉杆\n",
      "7:推出系统\n",
      "请输入功能序号：7\n"
     ]
    }
   ],
   "source": [
    "newLinkSys = linkSys()\n",
    "newLinkSys.run()"
   ]
  },
  {
   "cell_type": "code",
   "execution_count": 77,
   "metadata": {},
   "outputs": [],
   "source": [
    "newLinkSys.link_list[0].linkPosition([0,0],45)"
   ]
  },
  {
   "cell_type": "code",
   "execution_count": 78,
   "metadata": {},
   "outputs": [
    {
     "data": {
      "text/plain": [
       "[707.1067811865476, 707.1067811865476]"
      ]
     },
     "execution_count": 78,
     "metadata": {},
     "output_type": "execute_result"
    }
   ],
   "source": [
    "newLinkSys.link_list[0].weightNode()"
   ]
  },
  {
   "cell_type": "code",
   "execution_count": 81,
   "metadata": {},
   "outputs": [],
   "source": [
    "def coupling(link1,link2):\n",
    "    link2.startNode[0] = link1.startNode[0] + link1.length*math.cos(link1.angle/180*math.pi)\n",
    "    link2.startNode[1] = link1.startNode[1] + link1.length*math.sin(link1.angle/180*math.pi)\n",
    "    return \"已耦合\""
   ]
  },
  {
   "cell_type": "code",
   "execution_count": 83,
   "metadata": {},
   "outputs": [
    {
     "data": {
      "text/plain": [
       "'已耦合'"
      ]
     },
     "execution_count": 83,
     "metadata": {},
     "output_type": "execute_result"
    }
   ],
   "source": [
    "coupling(newLinkSys.link_list[0],newLinkSys.link_list[1])"
   ]
  },
  {
   "cell_type": "code",
   "execution_count": 84,
   "metadata": {},
   "outputs": [
    {
     "data": {
      "text/plain": [
       "[2121.3203435596424, 707.1067811865476]"
      ]
     },
     "execution_count": 84,
     "metadata": {},
     "output_type": "execute_result"
    }
   ],
   "source": [
    "newLinkSys.link_list[1].weightNode()"
   ]
  },
  {
   "cell_type": "code",
   "execution_count": 85,
   "metadata": {},
   "outputs": [],
   "source": [
    "def sysWeightPosition(list,*args):\n",
    "        G = 0\n",
    "        GX = 0\n",
    "        GY = 0\n",
    "        for i in args:\n",
    "            for j in list:\n",
    "                if i == j.name: \n",
    "#                     print(j)\n",
    "                    G += int(j.weight)\n",
    "                    GX += int(j.weight)*j.weightNode()[0]\n",
    "                    GY += int(j.weight)*j.weightNode()[1]\n",
    "                    break\n",
    "            else:\n",
    "                return \"无拉杆名为\" + i + \"拉杆\"\n",
    "        return [GX/G,GY/G]"
   ]
  },
  {
   "cell_type": "code",
   "execution_count": 86,
   "metadata": {},
   "outputs": [
    {
     "data": {
      "text/plain": [
       "[1414.2135623730949, 707.1067811865476]"
      ]
     },
     "execution_count": 86,
     "metadata": {},
     "output_type": "execute_result"
    }
   ],
   "source": [
    "sysWeightPosition(newLinkSys.link_list,'L1','L2')"
   ]
  },
  {
   "cell_type": "markdown",
   "metadata": {},
   "source": [
    "对于平面杆系统中单杆而言，杆在坐标系中的位置可由一端点坐标和杆与X轴夹角确定。对于整个杆系统以每杆与X轴夹角α（矢量）作为未知量，求解拉杆最终位置就是求解α的过程。"
   ]
  },
  {
   "cell_type": "markdown",
   "metadata": {},
   "source": [
    "### 杆的连接"
   ]
  },
  {
   "cell_type": "markdown",
   "metadata": {},
   "source": [
    "作一循环函数：\n",
    "$$x_2 = x_1 + L\\cos\\alpha$$\n",
    "$$y_2 = y_1 + L\\sin\\alpha$$"
   ]
  },
  {
   "cell_type": "markdown",
   "metadata": {},
   "source": [
    "其中$(x_1,y_1)$和$(y_1,y_2)$分别表示杆1的起点和终点，$\\alpha$表示杆1与X轴夹角。将杆1和杆2连接即是将杆1终点和杆2始点一致处理。"
   ]
  },
  {
   "cell_type": "markdown",
   "metadata": {},
   "source": [
    "以link1，link2，link3三杆系统为例，三杆长度分别为$L_1$,$L_2$,$L_3$，与X轴夹角分别为$\\alpha_1$，$\\alpha_2$，$\\alpha_3$。\n",
    "\n",
    "杆link1位置：初点坐标$(x_1,y_1)$，终点坐标$(x_2,y_2)$，与X周夹角$\\alpha_1$\n",
    "\n",
    "杆link2位置：初点坐标$(x_2,y_2)$，终点坐标$(x_3,y_3)$，与X周夹角$\\alpha_2$\n",
    "\n",
    "杆link3位置：初点坐标$(x_3,y_3)$，终点坐标$(x_4,y_4)$，与X周夹角$\\alpha_3$\n",
    "\n",
    "其中：$$x_2 = x_1+L_1\\cos\\alpha_1$$,\n",
    "$$y_2 = y_1+L1\\sin\\alpha_1$$,\n",
    "$$x_3 = x_2+L_2\\cos\\alpha_2 = x_1+L_1\\cos\\alpha_1+L_2\\cos\\alpha_2$$,\n",
    "$$y_3 = y_2+L_2\\sin\\alpha_2 = y_1+L_1\\sin\\alpha_1+L_2\\sin\\alpha_2$$,\n",
    "$$x_4 = x_3+L_3\\cos\\alpha_3 = x_1+L_1\\cos\\alpha_1+L_2\\cos\\alpha_2+L_3\\cos\\alpha_3$$,\n",
    "$$y_4 = y_3+L_3\\sin\\alpha_3 = y_1+L_1\\sin\\alpha_1+L_2\\sin\\alpha_2+L_3\\sin\\alpha_3$$"
   ]
  },
  {
   "cell_type": "markdown",
   "metadata": {},
   "source": [
    "其中$x_1,y_1,x_4,y_4,L_1,L_2,L_3,\\alpha_3$均为已知量，$\\alpha_1$，$\\alpha_2$为未知量，通过上面两式可求出$\\alpha_1$，$\\alpha_2$。"
   ]
  },
  {
   "cell_type": "markdown",
   "metadata": {},
   "source": [
    "由以上可知，三杆系统在一主动杆作用下其他两杆的位置是可求出的，这与三杆系统自由度分析吻合。"
   ]
  },
  {
   "cell_type": "markdown",
   "metadata": {},
   "source": [
    "### 多杆系统推导"
   ]
  },
  {
   "cell_type": "markdown",
   "metadata": {},
   "source": [
    "由三杆系统相关方程可推导出多杆系统求解方程，$link_1,link_2,\\cdots,link_n$的n杆系统每杆长度分别为$L_1,L_2,\\cdots,L_n$,与X轴夹角分别为$\\alpha_1,\\alpha_2,\\cdots,\\alpha_n$,$(x_1,y_1),(x_2,y_2),\\cdots,(x_n,y_n)$为每杆起点坐标，$(x_{n+1},y_{n+1})$为第n杆终点坐标。\n",
    "则有：$$x_{n+1} = x_1+L_1\\cos\\alpha_1+L_2\\cos\\alpha_2+\\cdots+L_n\\cos\\alpha_n$$,$$y_{n+1} = y_1+L_1\\sin\\alpha_1+L_2\\sin\\alpha_2+\\cdots+L_n\\sin\\alpha_n$$\n",
    "\n",
    "上式中$x_1,x_2,x_{n+1},y_{n+1},L_1,L_2,\\cdots,L_n,\\alpha_n$均为已知量，$\\alpha_1,\\alpha_2,\\cdots,\\alpha_{n-1}$为待求值。"
   ]
  },
  {
   "cell_type": "code",
   "execution_count": null,
   "metadata": {},
   "outputs": [],
   "source": []
  }
 ],
 "metadata": {
  "kernelspec": {
   "display_name": "Python 3",
   "language": "python",
   "name": "python3"
  },
  "language_info": {
   "codemirror_mode": {
    "name": "ipython",
    "version": 3
   },
   "file_extension": ".py",
   "mimetype": "text/x-python",
   "name": "python",
   "nbconvert_exporter": "python",
   "pygments_lexer": "ipython3",
   "version": "3.8.1"
  }
 },
 "nbformat": 4,
 "nbformat_minor": 4
}
