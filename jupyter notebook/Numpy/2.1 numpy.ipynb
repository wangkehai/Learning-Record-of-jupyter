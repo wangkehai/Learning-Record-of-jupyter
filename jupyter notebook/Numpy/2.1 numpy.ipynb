{
 "cells": [
  {
   "cell_type": "code",
   "execution_count": 1,
   "metadata": {},
   "outputs": [],
   "source": [
    "import numpy as np\n",
    "a=np.array([1,2,3,4])\n",
    "b=np.array((1,2,3,4))\n",
    "c=np.array([[1,2,3,4],[5,6,7,8],[9,10,11,12]])"
   ]
  },
  {
   "cell_type": "code",
   "execution_count": 2,
   "metadata": {
    "scrolled": true
   },
   "outputs": [
    {
     "name": "stdout",
     "output_type": "stream",
     "text": [
      "[1 2 3 4]\n",
      "[1 2 3 4]\n",
      "[[ 1  2  3  4]\n",
      " [ 5  6  7  8]\n",
      " [ 9 10 11 12]]\n"
     ]
    }
   ],
   "source": [
    "print(a)\n",
    "print(b)\n",
    "print(c)"
   ]
  },
  {
   "cell_type": "code",
   "execution_count": 3,
   "metadata": {},
   "outputs": [
    {
     "data": {
      "text/plain": [
       "(3, 4)"
      ]
     },
     "execution_count": 3,
     "metadata": {},
     "output_type": "execute_result"
    }
   ],
   "source": [
    "c.shape"
   ]
  },
  {
   "cell_type": "code",
   "execution_count": 4,
   "metadata": {},
   "outputs": [
    {
     "data": {
      "text/plain": [
       "array([[ 1,  2,  3,  4,  5,  6],\n",
       "       [ 7,  8,  9, 10, 11, 12]])"
      ]
     },
     "execution_count": 4,
     "metadata": {},
     "output_type": "execute_result"
    }
   ],
   "source": [
    "c.shape=(2,6)\n",
    "c"
   ]
  },
  {
   "cell_type": "code",
   "execution_count": 5,
   "metadata": {},
   "outputs": [
    {
     "name": "stdout",
     "output_type": "stream",
     "text": [
      "[[  1   2   3   4   5   6]\n",
      " [  7 100   9  10  11  12]]\n",
      "[[  1   2   3   4   5   6   7 100   9  10  11  12]]\n"
     ]
    }
   ],
   "source": [
    "d=c.reshape((1,12))\n",
    "c[1][1]=100\n",
    "print(c)\n",
    "print(d)"
   ]
  },
  {
   "cell_type": "code",
   "execution_count": 6,
   "metadata": {},
   "outputs": [
    {
     "name": "stdout",
     "output_type": "stream",
     "text": [
      "int32\n"
     ]
    }
   ],
   "source": [
    "print(c.dtype)"
   ]
  },
  {
   "cell_type": "code",
   "execution_count": 7,
   "metadata": {},
   "outputs": [
    {
     "name": "stdout",
     "output_type": "stream",
     "text": [
      "[2 3 4 5]\n",
      "[2.  3.5 4.  5. ]\n"
     ]
    }
   ],
   "source": [
    "e=np.array([2,3.5,4,5],dtype=int)\n",
    "f=np.array([2,3.5,4,5],dtype=float)\n",
    "print(e)\n",
    "print(f)"
   ]
  },
  {
   "cell_type": "code",
   "execution_count": 8,
   "metadata": {},
   "outputs": [
    {
     "data": {
      "text/plain": [
       "['double', 'd', 12, 'float64', 'Float64', 'f8', 'float_', 'float']"
      ]
     },
     "execution_count": 8,
     "metadata": {},
     "output_type": "execute_result"
    }
   ],
   "source": [
    "[key for key,value in np.typeDict.items() if value is np.float64]"
   ]
  },
  {
   "cell_type": "markdown",
   "metadata": {},
   "source": [
    "numpy ndarray对象元素数据类型包括以下："
   ]
  },
  {
   "cell_type": "code",
   "execution_count": 9,
   "metadata": {
    "scrolled": true
   },
   "outputs": [
    {
     "data": {
      "text/plain": [
       "{numpy.bool_,\n",
       " numpy.bytes_,\n",
       " numpy.clongdouble,\n",
       " numpy.complex128,\n",
       " numpy.complex64,\n",
       " numpy.datetime64,\n",
       " numpy.float16,\n",
       " numpy.float32,\n",
       " numpy.float64,\n",
       " numpy.int16,\n",
       " numpy.int32,\n",
       " numpy.int64,\n",
       " numpy.int8,\n",
       " numpy.intc,\n",
       " numpy.longdouble,\n",
       " numpy.object_,\n",
       " numpy.str_,\n",
       " numpy.timedelta64,\n",
       " numpy.uint16,\n",
       " numpy.uint32,\n",
       " numpy.uint64,\n",
       " numpy.uint8,\n",
       " numpy.uintc,\n",
       " numpy.void}"
      ]
     },
     "execution_count": 9,
     "metadata": {},
     "output_type": "execute_result"
    }
   ],
   "source": [
    "set(np.typeDict.values())"
   ]
  },
  {
   "cell_type": "code",
   "execution_count": 10,
   "metadata": {},
   "outputs": [
    {
     "name": "stdout",
     "output_type": "stream",
     "text": [
      "0.0\n",
      "0.1\n",
      "0.2\n",
      "0.30000000000000004\n",
      "0.4\n"
     ]
    }
   ],
   "source": [
    "for i in np.arange(0,0.5,0.1):\n",
    "    print(i)"
   ]
  },
  {
   "cell_type": "code",
   "execution_count": 11,
   "metadata": {},
   "outputs": [
    {
     "data": {
      "text/plain": [
       "array([0, 1, 2, 3, 4, 5, 6, 7])"
      ]
     },
     "execution_count": 11,
     "metadata": {},
     "output_type": "execute_result"
    }
   ],
   "source": [
    "np.arange(0,8)"
   ]
  },
  {
   "cell_type": "markdown",
   "metadata": {},
   "source": [
    "用linspace创建等差数组，第三个参数表示数组元素个数，endpoint：设置是否包括终值。"
   ]
  },
  {
   "cell_type": "code",
   "execution_count": 13,
   "metadata": {},
   "outputs": [
    {
     "data": {
      "text/plain": [
       "array([0. , 0.1, 0.2, 0.3, 0.4, 0.5, 0.6, 0.7, 0.8, 0.9])"
      ]
     },
     "execution_count": 13,
     "metadata": {},
     "output_type": "execute_result"
    }
   ],
   "source": [
    "np.linspace(0,1,10,endpoint=False)"
   ]
  },
  {
   "cell_type": "markdown",
   "metadata": {},
   "source": [
    "用logspace创建等比数组,base：基数设置，默认为10，endpoint：设置是否包括终值。"
   ]
  },
  {
   "cell_type": "code",
   "execution_count": 17,
   "metadata": {},
   "outputs": [
    {
     "data": {
      "text/plain": [
       "array([1.        , 1.05946309, 1.12246205, 1.18920712, 1.25992105,\n",
       "       1.33483985, 1.41421356, 1.49830708, 1.58740105, 1.68179283,\n",
       "       1.78179744, 1.88774863])"
      ]
     },
     "execution_count": 17,
     "metadata": {},
     "output_type": "execute_result"
    }
   ],
   "source": [
    "np.logspace(0,1,12,base=2,endpoint=False)"
   ]
  },
  {
   "cell_type": "markdown",
   "metadata": {},
   "source": [
    "zeros()、ones()、full()三个函数用来创建指定形状和类型的数组，zeros元素全为0，ones元素全为1，full元素用指定元素补满"
   ]
  },
  {
   "cell_type": "code",
   "execution_count": 24,
   "metadata": {},
   "outputs": [
    {
     "name": "stdout",
     "output_type": "stream",
     "text": [
      "[[0 0 0]\n",
      " [0 0 0]]\n",
      "[[1 1]\n",
      " [1 1]]\n",
      "[[3.14159265 3.14159265 3.14159265 3.14159265]\n",
      " [3.14159265 3.14159265 3.14159265 3.14159265]]\n"
     ]
    }
   ],
   "source": [
    "a = np.zeros((2,3),np.int)\n",
    "b = np.ones((2,2),np.int)\n",
    "c = np.full((2,4),np.pi)\n",
    "print(str(a)+ '\\n' + str(b) + '\\n' + str(c))"
   ]
  },
  {
   "cell_type": "markdown",
   "metadata": {},
   "source": [
    "zeros_like(),ones_like(),full_like()三个函数用来创建和目标数组形状、类型相同的数组，zeros_like(a)和zeros_like(a.shape,a.dtype)效果相同。"
   ]
  },
  {
   "cell_type": "code",
   "execution_count": 30,
   "metadata": {},
   "outputs": [
    {
     "data": {
      "text/plain": [
       "array([[1, 1, 1],\n",
       "       [1, 1, 1]])"
      ]
     },
     "execution_count": 30,
     "metadata": {},
     "output_type": "execute_result"
    }
   ],
   "source": [
    "np.ones_like(a)"
   ]
  },
  {
   "cell_type": "markdown",
   "metadata": {},
   "source": [
    "fromstring()：复制字符串序列创建数组，np.int8表示数组元素类型为八位整型，数组元素对于字符的ASCLL编码。\n",
    "frombuffer()：使用原字符串内存创建数组，由于字符串是只读的，所以创建的数组无法更改内容。\n",
    "fromfile()：从文件创建数组。"
   ]
  },
  {
   "cell_type": "code",
   "execution_count": 6,
   "metadata": {},
   "outputs": [
    {
     "name": "stderr",
     "output_type": "stream",
     "text": [
      "<ipython-input-6-7c379d13d13f>:2: DeprecationWarning: The binary mode of fromstring is deprecated, as it behaves surprisingly on unicode inputs. Use frombuffer instead\n",
      "  np.fromstring(s,dtype=np.int8)\n"
     ]
    },
    {
     "data": {
      "text/plain": [
       "array([ 97,  98,  99, 100, 101, 102], dtype=int8)"
      ]
     },
     "execution_count": 6,
     "metadata": {},
     "output_type": "execute_result"
    }
   ],
   "source": [
    "s='abcdef'\n",
    "np.fromstring(s,dtype=np.int8)"
   ]
  },
  {
   "cell_type": "markdown",
   "metadata": {},
   "source": [
    "fromfunction()：用函数创建数组，第一个参数为引用函数，第二个参数为数组形状，如下数组中每个元素a[i][j]=fun(i,j)"
   ]
  },
  {
   "cell_type": "code",
   "execution_count": 7,
   "metadata": {},
   "outputs": [
    {
     "data": {
      "text/plain": [
       "array([[ 1.,  2.,  3.,  4.,  5.,  6.,  7.,  8.,  9.],\n",
       "       [ 2.,  4.,  6.,  8., 10., 12., 14., 16., 18.],\n",
       "       [ 3.,  6.,  9., 12., 15., 18., 21., 24., 27.],\n",
       "       [ 4.,  8., 12., 16., 20., 24., 28., 32., 36.],\n",
       "       [ 5., 10., 15., 20., 25., 30., 35., 40., 45.],\n",
       "       [ 6., 12., 18., 24., 30., 36., 42., 48., 54.],\n",
       "       [ 7., 14., 21., 28., 35., 42., 49., 56., 63.],\n",
       "       [ 8., 16., 24., 32., 40., 48., 56., 64., 72.],\n",
       "       [ 9., 18., 27., 36., 45., 54., 63., 72., 81.]])"
      ]
     },
     "execution_count": 7,
     "metadata": {},
     "output_type": "execute_result"
    }
   ],
   "source": [
    "def fun(i,j):\n",
    "    return((i+1)*(j+1))\n",
    "np.fromfunction(fun,(9,9))"
   ]
  },
  {
   "cell_type": "markdown",
   "metadata": {},
   "source": [
    "数组切片引用只引用原数组视图，切片和原数组使用相同的存储空间。"
   ]
  },
  {
   "cell_type": "code",
   "execution_count": 9,
   "metadata": {},
   "outputs": [
    {
     "name": "stdout",
     "output_type": "stream",
     "text": [
      "[  0   1   2 100 101   5   6   7   8   9]\n",
      "[100 101   5   6]\n"
     ]
    }
   ],
   "source": [
    "a = np.arange(0,10)\n",
    "b=a[3:7]\n",
    "a[3:5]=100,101\n",
    "print(a)\n",
    "print(b)"
   ]
  },
  {
   "cell_type": "markdown",
   "metadata": {},
   "source": [
    "numpy除了支持切片操作提取下标元素外还支持整数列表、整数数组、布尔数组等高级下标存取方法。\n",
    "使用整数列表下标提取元素时，以列表中每个元素为下标，创建的数组不与原数组共享内存。"
   ]
  },
  {
   "cell_type": "code",
   "execution_count": 16,
   "metadata": {},
   "outputs": [
    {
     "name": "stdout",
     "output_type": "stream",
     "text": [
      "[100 100   1   8]\n",
      "[100 100 200   8]\n",
      "[  0   1   2 100 101   5   6   7   8   9]\n"
     ]
    }
   ],
   "source": [
    "c=a[[3,3,1,8]]\n",
    "print(c)\n",
    "c[2]=200\n",
    "print(c)\n",
    "print(a)"
   ]
  },
  {
   "cell_type": "markdown",
   "metadata": {},
   "source": [
    "使用整数数组作为下标创建新数组时，新数组的形状和所使用的整数数组相同，创建的新数组不与原数组共享内存。"
   ]
  },
  {
   "cell_type": "code",
   "execution_count": 18,
   "metadata": {},
   "outputs": [
    {
     "name": "stdout",
     "output_type": "stream",
     "text": [
      "[100 100   1   8]\n",
      "[100 100 200   8]\n",
      "[  0   1   2 100 101   5   6   7   8   9]\n"
     ]
    }
   ],
   "source": [
    "d = a[np.array([3,3,1,8])]\n",
    "print(d)\n",
    "d[2]=200\n",
    "print(d)\n",
    "print(a)"
   ]
  },
  {
   "cell_type": "markdown",
   "metadata": {},
   "source": [
    "使用布尔数组作为下标创建新数组时，只提取布尔数组中元素为True下标对应的原数组元素。创建的新数组不与原数组共享内存。\n",
    "只可以使用布尔数组作为下标，不能使用布尔列表。"
   ]
  },
  {
   "cell_type": "code",
   "execution_count": 25,
   "metadata": {},
   "outputs": [
    {
     "name": "stdout",
     "output_type": "stream",
     "text": [
      "[0 1 2 3 4]\n",
      "[0 2 4]\n",
      "[  0   2 100]\n",
      "[0 1 2 3 4]\n"
     ]
    }
   ],
   "source": [
    "x = np.arange(0,5,1)\n",
    "print(x)\n",
    "y = x[np.array([True,False,True,False,True])]\n",
    "print(y)\n",
    "y[2]=100\n",
    "print(y)\n",
    "print(x)"
   ]
  },
  {
   "cell_type": "markdown",
   "metadata": {},
   "source": [
    "使用slice()函数创建切片对象。"
   ]
  },
  {
   "cell_type": "code",
   "execution_count": 27,
   "metadata": {},
   "outputs": [
    {
     "name": "stdout",
     "output_type": "stream",
     "text": [
      "[[ 0  1  2  3  4  5]\n",
      " [10 11 12 13 14 15]\n",
      " [20 21 22 23 24 25]\n",
      " [30 31 32 33 34 35]\n",
      " [40 41 42 43 44 45]\n",
      " [50 51 52 53 54 55]]\n",
      "[[ 2  3  4  5]\n",
      " [22 23 24 25]\n",
      " [42 43 44 45]]\n",
      "[[ 4  5]\n",
      " [44 45]]\n"
     ]
    }
   ],
   "source": [
    "e = np.arange(0,60,10).reshape(-1,1) + np.arange(0,6)\n",
    "print(e)\n",
    "idx = slice(None,None,2),slice(2,None)\n",
    "f = e[idx]\n",
    "print(f)\n",
    "g = e[idx][idx]\n",
    "print(g)"
   ]
  },
  {
   "cell_type": "markdown",
   "metadata": {},
   "source": [
    "使用numpy的_s对象创建数组下标的切片对象。"
   ]
  },
  {
   "cell_type": "code",
   "execution_count": 28,
   "metadata": {},
   "outputs": [
    {
     "data": {
      "text/plain": [
       "(slice(None, None, 2), slice(2, None, None))"
      ]
     },
     "execution_count": 28,
     "metadata": {},
     "output_type": "execute_result"
    }
   ],
   "source": [
    "np.s_[::2,2:]"
   ]
  },
  {
   "cell_type": "markdown",
   "metadata": {},
   "source": [
    "使用dtype()创建dtype()对象，参数为描述结构类型的字典。字典有两个键：names和formats，每个键对应一个列表，names定义字段名称，formats定义字段类型。"
   ]
  },
  {
   "cell_type": "code",
   "execution_count": 34,
   "metadata": {},
   "outputs": [
    {
     "name": "stdout",
     "output_type": "stream",
     "text": [
      "[(b'wang', 32, 75.5) (b'zhang', 24, 64.5)]\n",
      "(b'wang', 32, 75.5)\n",
      "[32 24]\n",
      "b'wang'\n"
     ]
    }
   ],
   "source": [
    "persontype = np.dtype({'names':['name','age','weight'],'formats':['S30','i','f']},align = True)\n",
    "a = np.array([('wang',32,75.5),('zhang',24,64.5)],dtype = persontype)\n",
    "print(a)\n",
    "print(a[0])\n",
    "print(a['age'])\n",
    "print(a[0]['name'])"
   ]
  },
  {
   "cell_type": "markdown",
   "metadata": {},
   "source": [
    "tofile(),tostring()可任意将数组以二进制形式转化为字符串或写入文件。"
   ]
  },
  {
   "cell_type": "code",
   "execution_count": 35,
   "metadata": {},
   "outputs": [],
   "source": [
    "a.tofile('numpy2-1.bin')"
   ]
  },
  {
   "cell_type": "markdown",
   "metadata": {},
   "source": [
    "使用nditer()函数迭代numpy数组对象。\n",
    "更改数组存储方式为‘F’列方式。'F':Fortran order，即是列序优先；C order，即是行序优先；"
   ]
  },
  {
   "cell_type": "code",
   "execution_count": 21,
   "metadata": {},
   "outputs": [
    {
     "name": "stdout",
     "output_type": "stream",
     "text": [
      "[[[0 1 2]\n",
      "  [3 4 5]]]\n",
      "  C_CONTIGUOUS : True\n",
      "  F_CONTIGUOUS : False\n",
      "  OWNDATA : False\n",
      "  WRITEABLE : True\n",
      "  ALIGNED : True\n",
      "  WRITEBACKIFCOPY : False\n",
      "  UPDATEIFCOPY : False\n",
      "\n",
      "0\n",
      "1\n",
      "2\n",
      "3\n",
      "4\n",
      "5\n",
      "\t\n",
      "0\n",
      "1\n",
      "2\n",
      "3\n",
      "4\n",
      "5\n",
      "\t\n",
      "0\n",
      "3\n",
      "1\n",
      "4\n",
      "2\n",
      "5\n"
     ]
    }
   ],
   "source": [
    "b = np.arange(1*2*3).reshape(1,2,3)\n",
    "print(b)\n",
    "print(b.flags)\n",
    "for i in np.nditer(b):\n",
    "    print(i)\n",
    "print('\\t')\n",
    "for j in np.nditer(b.T):\n",
    "    print(j)\n",
    "print('\\t')\n",
    "for k in np.nditer(b.copy(order='F')):\n",
    "    print(k)"
   ]
  },
  {
   "cell_type": "code",
   "execution_count": null,
   "metadata": {},
   "outputs": [],
   "source": [
    "nditer()函数还有参数op_flags用来指定输出的迭代对象读取方式，可选方式有只读（read-only），只写（writeonly），读写模式（readwrite）"
   ]
  },
  {
   "cell_type": "code",
   "execution_count": 38,
   "metadata": {},
   "outputs": [
    {
     "name": "stdout",
     "output_type": "stream",
     "text": [
      "[[ 0  1  2  3]\n",
      " [ 4  5  6  7]\n",
      " [ 8  9 10 11]]\n",
      "[[ 0  2  4  6]\n",
      " [ 8 10 12 14]\n",
      " [16 18 20 22]]\n"
     ]
    }
   ],
   "source": [
    "a = np.arange(3*4).reshape(3,4)\n",
    "print(a)\n",
    "for i in np.nditer(a,op_flags=['readwrite']):\n",
    "    i[...]=i*2\n",
    "print(a)"
   ]
  },
  {
   "cell_type": "markdown",
   "metadata": {},
   "source": [
    "使用tile()平铺函数可以将narray数组沿各轴平铺，tile()函数第一个参数为平铺对象，第二个参数为各轴重复次数。"
   ]
  },
  {
   "cell_type": "code",
   "execution_count": 18,
   "metadata": {},
   "outputs": [
    {
     "data": {
      "text/plain": [
       "array([[1, 2, 1, 2, 1, 2],\n",
       "       [3, 4, 3, 4, 3, 4],\n",
       "       [1, 2, 1, 2, 1, 2],\n",
       "       [3, 4, 3, 4, 3, 4],\n",
       "       [1, 2, 1, 2, 1, 2],\n",
       "       [3, 4, 3, 4, 3, 4]])"
      ]
     },
     "execution_count": 18,
     "metadata": {},
     "output_type": "execute_result"
    }
   ],
   "source": [
    "a = np.array([[1,2],[3,4]])\n",
    "b = np.tile(a,(3,3))\n",
    "b"
   ]
  },
  {
   "cell_type": "code",
   "execution_count": null,
   "metadata": {},
   "outputs": [],
   "source": []
  },
  {
   "cell_type": "code",
   "execution_count": null,
   "metadata": {},
   "outputs": [],
   "source": []
  },
  {
   "cell_type": "code",
   "execution_count": null,
   "metadata": {},
   "outputs": [],
   "source": []
  }
 ],
 "metadata": {
  "kernelspec": {
   "display_name": "Python 3",
   "language": "python",
   "name": "python3"
  },
  "language_info": {
   "codemirror_mode": {
    "name": "ipython",
    "version": 3
   },
   "file_extension": ".py",
   "mimetype": "text/x-python",
   "name": "python",
   "nbconvert_exporter": "python",
   "pygments_lexer": "ipython3",
   "version": "3.8.1"
  }
 },
 "nbformat": 4,
 "nbformat_minor": 4
}
