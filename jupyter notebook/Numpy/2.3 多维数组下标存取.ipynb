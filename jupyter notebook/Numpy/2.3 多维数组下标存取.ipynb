{
 "cells": [
  {
   "cell_type": "code",
   "execution_count": 9,
   "metadata": {},
   "outputs": [
    {
     "name": "stdout",
     "output_type": "stream",
     "text": [
      "[[[ 0  1  2  3  4]\n",
      "  [ 5  6  7  8  9]\n",
      "  [10 11 12 13 14]\n",
      "  [15 16 17 18 19]]\n",
      "\n",
      " [[20 21 22 23 24]\n",
      "  [25 26 27 28 29]\n",
      "  [30 31 32 33 34]\n",
      "  [35 36 37 38 39]]\n",
      "\n",
      " [[40 41 42 43 44]\n",
      "  [45 46 47 48 49]\n",
      "  [50 51 52 53 54]\n",
      "  [55 56 57 58 59]]]\n"
     ]
    }
   ],
   "source": [
    "import numpy as np\n",
    "a = np.arange(3*4*5).reshape(3,4,5)\n",
    "lidx = [[0],[1]]\n",
    "aidx = np.array(lidx)\n",
    "print(a)"
   ]
  },
  {
   "cell_type": "markdown",
   "metadata": {},
   "source": [
    "列表当作下标"
   ]
  },
  {
   "cell_type": "code",
   "execution_count": 13,
   "metadata": {},
   "outputs": [
    {
     "name": "stdout",
     "output_type": "stream",
     "text": [
      "<class 'list'>\n",
      "[[5 6 7 8 9]]\n",
      "[[5 6 7 8 9]]\n"
     ]
    },
    {
     "name": "stderr",
     "output_type": "stream",
     "text": [
      "<ipython-input-13-b95cdcd1bfc8>:2: FutureWarning: Using a non-tuple sequence for multidimensional indexing is deprecated; use `arr[tuple(seq)]` instead of `arr[seq]`. In the future this will be interpreted as an array index, `arr[np.array(seq)]`, which will result either in an error or a different result.\n",
      "  print(a[lidx])\n"
     ]
    }
   ],
   "source": [
    "print(type(lidx))\n",
    "print(a[lidx])\n",
    "print(a[([0],[1])]) "
   ]
  },
  {
   "cell_type": "markdown",
   "metadata": {},
   "source": [
    "数组当作下标"
   ]
  },
  {
   "cell_type": "code",
   "execution_count": 8,
   "metadata": {},
   "outputs": [
    {
     "name": "stdout",
     "output_type": "stream",
     "text": [
      "<class 'numpy.ndarray'>\n",
      "[[[[ 0  1  2  3  4]\n",
      "   [ 5  6  7  8  9]\n",
      "   [10 11 12 13 14]\n",
      "   [15 16 17 18 19]]]\n",
      "\n",
      "\n",
      " [[[20 21 22 23 24]\n",
      "   [25 26 27 28 29]\n",
      "   [30 31 32 33 34]\n",
      "   [35 36 37 38 39]]]]\n"
     ]
    }
   ],
   "source": [
    "print(type(aidx))\n",
    "print(a[aidx])"
   ]
  },
  {
   "cell_type": "markdown",
   "metadata": {},
   "source": [
    "### 整数数组作为下标"
   ]
  },
  {
   "cell_type": "code",
   "execution_count": 20,
   "metadata": {},
   "outputs": [
    {
     "data": {
      "text/plain": [
       "array([[[22, 43, 22],\n",
       "        [ 2, 23,  2]],\n",
       "\n",
       "       [[27, 48, 27],\n",
       "        [ 7, 28,  7]]])"
      ]
     },
     "execution_count": 20,
     "metadata": {},
     "output_type": "execute_result"
    }
   ],
   "source": [
    "i0 = np.array([[1,2,1],[0,1,0]])\n",
    "i1 = np.array([[[0]],[[1]]])\n",
    "i2 = np.array([[[2,3,2]]])\n",
    "b = a[i0,i1,i2]\n",
    "b"
   ]
  },
  {
   "cell_type": "markdown",
   "metadata": {},
   "source": [
    "#### 步骤如下：\n",
    "    1、i0.shape=(2,3),i1.shape=(2,1,1),i2.shape=(1,1,3),先将i0，i1，i2按照每轴最大广播为相同形状数组(2,2,3)，广播后的数组如下："
   ]
  },
  {
   "cell_type": "code",
   "execution_count": 21,
   "metadata": {},
   "outputs": [
    {
     "data": {
      "text/plain": [
       "(array([[1, 2, 1],\n",
       "        [0, 1, 0]]),\n",
       " array([[[0]],\n",
       " \n",
       "        [[1]]]),\n",
       " array([[[2, 3, 2]]]))"
      ]
     },
     "execution_count": 21,
     "metadata": {},
     "output_type": "execute_result"
    }
   ],
   "source": [
    "i0,i1,i2"
   ]
  },
  {
   "cell_type": "code",
   "execution_count": 22,
   "metadata": {},
   "outputs": [
    {
     "data": {
      "text/plain": [
       "(array([[[1, 2, 1],\n",
       "         [0, 1, 0]],\n",
       " \n",
       "        [[1, 2, 1],\n",
       "         [0, 1, 0]]]),\n",
       " array([[[0, 0, 0],\n",
       "         [0, 0, 0]],\n",
       " \n",
       "        [[1, 1, 1],\n",
       "         [1, 1, 1]]]),\n",
       " array([[[2, 3, 2],\n",
       "         [2, 3, 2]],\n",
       " \n",
       "        [[2, 3, 2],\n",
       "         [2, 3, 2]]]))"
      ]
     },
     "execution_count": 22,
     "metadata": {},
     "output_type": "execute_result"
    }
   ],
   "source": [
    "ind0,ind1,ind2 = np.broadcast_arrays(i0,i1,i2)\n",
    "ind0,ind1,ind2"
   ]
  },
  {
   "cell_type": "markdown",
   "metadata": {},
   "source": [
    "    2、对于任意的b[i,j,k]元素，b[i,j,k]=a[ind0[i,j,k],ind1[i,j,k],ind2[i,j,k]]"
   ]
  },
  {
   "cell_type": "code",
   "execution_count": 24,
   "metadata": {},
   "outputs": [
    {
     "name": "stdout",
     "output_type": "stream",
     "text": [
      "7\n",
      "7\n"
     ]
    }
   ],
   "source": [
    "print(b[1,1,2])\n",
    "print(a[ind0[1,1,2],ind1[1,1,2],ind2[1,1,2]])"
   ]
  },
  {
   "cell_type": "markdown",
   "metadata": {},
   "source": [
    "    特殊情况：存在切片下标时，此时结果数组的shape属性为：将原数组中shape属性中整数数组占据部分替换为它们的广播之后的shape属性，切片位置的shape属性用切片长度替换。"
   ]
  },
  {
   "cell_type": "code",
   "execution_count": 30,
   "metadata": {},
   "outputs": [
    {
     "name": "stdout",
     "output_type": "stream",
     "text": [
      "(2, 2, 2, 3)\n"
     ]
    },
    {
     "data": {
      "text/plain": [
       "array([[[[25, 30, 25],\n",
       "         [20, 25, 20]],\n",
       "\n",
       "        [[26, 31, 26],\n",
       "         [21, 26, 21]]],\n",
       "\n",
       "\n",
       "       [[[45, 50, 45],\n",
       "         [40, 45, 40]],\n",
       "\n",
       "        [[46, 51, 46],\n",
       "         [41, 46, 41]]]])"
      ]
     },
     "execution_count": 30,
     "metadata": {},
     "output_type": "execute_result"
    }
   ],
   "source": [
    "c = a[1:3,i0,i1]\n",
    "print(c.shape)\n",
    "c"
   ]
  },
  {
   "cell_type": "code",
   "execution_count": 29,
   "metadata": {},
   "outputs": [
    {
     "name": "stdout",
     "output_type": "stream",
     "text": [
      "(2, 2, 3) (2, 2, 3)\n"
     ]
    },
    {
     "data": {
      "text/plain": [
       "(array([[[1, 2, 1],\n",
       "         [0, 1, 0]],\n",
       " \n",
       "        [[1, 2, 1],\n",
       "         [0, 1, 0]]]),\n",
       " array([[[0, 0, 0],\n",
       "         [0, 0, 0]],\n",
       " \n",
       "        [[1, 1, 1],\n",
       "         [1, 1, 1]]]))"
      ]
     },
     "execution_count": 29,
     "metadata": {},
     "output_type": "execute_result"
    }
   ],
   "source": [
    "inp0,inp1 = np.broadcast_arrays(i0,i1)\n",
    "print(inp0.shape,inp1.shape)\n",
    "inp0,inp1"
   ]
  },
  {
   "cell_type": "markdown",
   "metadata": {},
   "source": [
    "    对于任意的c[:,i,j,k]=a[1:3,inp0[i,j,k],inp1[i,j,k]]."
   ]
  },
  {
   "cell_type": "code",
   "execution_count": 32,
   "metadata": {},
   "outputs": [
    {
     "name": "stdout",
     "output_type": "stream",
     "text": [
      "[31 51]\n",
      "[31 51]\n"
     ]
    }
   ],
   "source": [
    "i,j,k = 1,0,1\n",
    "print(c[:,i,j,k])\n",
    "print(a[1:3,inp0[i,j,k],inp1[i,j,k]])"
   ]
  },
  {
   "cell_type": "markdown",
   "metadata": {},
   "source": [
    "    当切片数组不连续时，结果数组的形状为整数数组广播之后的形状后添加切片元素对于形状。"
   ]
  },
  {
   "cell_type": "code",
   "execution_count": 33,
   "metadata": {},
   "outputs": [
    {
     "name": "stdout",
     "output_type": "stream",
     "text": [
      "(2, 2, 3, 4)\n"
     ]
    },
    {
     "data": {
      "text/plain": [
       "array([[[[20, 25, 30, 35],\n",
       "         [40, 45, 50, 55],\n",
       "         [20, 25, 30, 35]],\n",
       "\n",
       "        [[ 0,  5, 10, 15],\n",
       "         [20, 25, 30, 35],\n",
       "         [ 0,  5, 10, 15]]],\n",
       "\n",
       "\n",
       "       [[[21, 26, 31, 36],\n",
       "         [41, 46, 51, 56],\n",
       "         [21, 26, 31, 36]],\n",
       "\n",
       "        [[ 1,  6, 11, 16],\n",
       "         [21, 26, 31, 36],\n",
       "         [ 1,  6, 11, 16]]]])"
      ]
     },
     "execution_count": 33,
     "metadata": {},
     "output_type": "execute_result"
    }
   ],
   "source": [
    "d = a[i0,:,i1]\n",
    "print(d.shape)\n",
    "d"
   ]
  },
  {
   "cell_type": "markdown",
   "metadata": {},
   "source": [
    "    "
   ]
  },
  {
   "cell_type": "markdown",
   "metadata": {},
   "source": [
    "    对于任意的d[i,j,k,:] = a[inp0[i,j,k],:,inp1[i,j,k]]."
   ]
  },
  {
   "cell_type": "code",
   "execution_count": 35,
   "metadata": {},
   "outputs": [
    {
     "name": "stdout",
     "output_type": "stream",
     "text": [
      "[21 26 31 36]\n",
      "[21 26 31 36]\n"
     ]
    }
   ],
   "source": [
    "i,j,k = 1,1,1\n",
    "print(d[i,j,k,:])\n",
    "print(a[inp0[i,j,k],:,inp1[i,j,k]])"
   ]
  }
 ],
 "metadata": {
  "kernelspec": {
   "display_name": "Python 3",
   "language": "python",
   "name": "python3"
  },
  "language_info": {
   "codemirror_mode": {
    "name": "ipython",
    "version": 3
   },
   "file_extension": ".py",
   "mimetype": "text/x-python",
   "name": "python",
   "nbconvert_exporter": "python",
   "pygments_lexer": "ipython3",
   "version": "3.8.1"
  }
 },
 "nbformat": 4,
 "nbformat_minor": 4
}
