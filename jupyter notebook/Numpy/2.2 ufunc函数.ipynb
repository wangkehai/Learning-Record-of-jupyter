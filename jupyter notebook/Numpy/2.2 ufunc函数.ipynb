{
 "cells": [
  {
   "cell_type": "markdown",
   "metadata": {},
   "source": [
    "![图片](./2.2.1.png)"
   ]
  },
  {
   "cell_type": "code",
   "execution_count": 6,
   "metadata": {},
   "outputs": [],
   "source": [
    "def triangle_wave(x,c,c0,hc):\n",
    "    x = x-int(x)\n",
    "    if x > c:\n",
    "        r = 0.0\n",
    "    elif x < c0:\n",
    "        r = hc/c0*x\n",
    "    else: r = (c-x)/(c-c0)*hc\n",
    "    return r\n"
   ]
  },
  {
   "cell_type": "markdown",
   "metadata": {},
   "source": [
    "列表推导式语法调用函数"
   ]
  },
  {
   "cell_type": "code",
   "execution_count": 7,
   "metadata": {},
   "outputs": [],
   "source": [
    "import numpy as np\n",
    "x = np.linspace(0,2,1000)\n",
    "y1 = np.array([triangle_wave(t,0.6,0.4,1.0) for t in x])"
   ]
  },
  {
   "cell_type": "markdown",
   "metadata": {},
   "source": [
    "## frompyfunc()"
   ]
  },
  {
   "cell_type": "markdown",
   "metadata": {},
   "source": [
    "np.frompyfunc()可以将计算单个值的函数转换为可以对数组每个元素进行计算的ufun函数。"
   ]
  },
  {
   "cell_type": "markdown",
   "metadata": {},
   "source": [
    "fromnpfunc(func,nin,nout):第一个参数表示计算函数func，第二个元素表示函数func的输入参数个数，第二个函数表示func输出值个数。"
   ]
  },
  {
   "cell_type": "markdown",
   "metadata": {},
   "source": [
    "下面程序表示将计算函数triangle_wave()转换为ufunc函数对象triangle_func。"
   ]
  },
  {
   "cell_type": "code",
   "execution_count": 8,
   "metadata": {},
   "outputs": [],
   "source": [
    "triangle_func = np.frompyfunc(triangle_wave,4,1)\n",
    "y2 = triangle_func(x,0.6,0.4,1.0)"
   ]
  },
  {
   "cell_type": "markdown",
   "metadata": {},
   "source": [
    "triangle_func返回的对象为object类型，可以调用astype()方法转化为双精度浮点型。"
   ]
  },
  {
   "cell_type": "code",
   "execution_count": 9,
   "metadata": {},
   "outputs": [
    {
     "name": "stdout",
     "output_type": "stream",
     "text": [
      "object\n",
      "float64\n"
     ]
    }
   ],
   "source": [
    "print(y2.dtype)\n",
    "print(y2.astype(np.float).dtype)"
   ]
  },
  {
   "cell_type": "markdown",
   "metadata": {},
   "source": [
    "## vectorize()\n",
    "利用vectorize()函数也可以实现和frompyfunc()相同功能，它还支持用otypes参数指定返回数组的类型。"
   ]
  },
  {
   "cell_type": "code",
   "execution_count": 13,
   "metadata": {},
   "outputs": [
    {
     "name": "stdout",
     "output_type": "stream",
     "text": [
      "float64\n"
     ]
    }
   ],
   "source": [
    "triangle_func2 = np.vectorize(triangle_wave,otypes=[np.float])\n",
    "y3 = triangle_func2(x,0.6,0.4,1.0)\n",
    "print(y3.dtype)"
   ]
  },
  {
   "cell_type": "code",
   "execution_count": null,
   "metadata": {},
   "outputs": [],
   "source": []
  },
  {
   "cell_type": "code",
   "execution_count": null,
   "metadata": {},
   "outputs": [],
   "source": []
  },
  {
   "cell_type": "code",
   "execution_count": null,
   "metadata": {},
   "outputs": [],
   "source": []
  }
 ],
 "metadata": {
  "kernelspec": {
   "display_name": "Python 3",
   "language": "python",
   "name": "python3"
  },
  "language_info": {
   "codemirror_mode": {
    "name": "ipython",
    "version": 3
   },
   "file_extension": ".py",
   "mimetype": "text/x-python",
   "name": "python",
   "nbconvert_exporter": "python",
   "pygments_lexer": "ipython3",
   "version": "3.8.1"
  }
 },
 "nbformat": 4,
 "nbformat_minor": 4
}
