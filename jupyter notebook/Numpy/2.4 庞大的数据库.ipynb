{
 "cells": [
  {
   "cell_type": "markdown",
   "metadata": {},
   "source": [
    "## numpy.random模块"
   ]
  },
  {
   "cell_type": "markdown",
   "metadata": {},
   "source": [
    "![图片](2.4.1.png)"
   ]
  },
  {
   "cell_type": "markdown",
   "metadata": {},
   "source": [
    "<img scr=\"2.4.1.png\">"
   ]
  },
  {
   "cell_type": "markdown",
   "metadata": {},
   "source": [
    "<img scr = \"2.4.1.png\" >"
   ]
  },
  {
   "cell_type": "markdown",
   "metadata": {},
   "source": [
    "rand()产生0~1之间的随机浮点数，参数为数组形状；<br/>\n",
    "randn()产生标准正态分布的随机数，参数为数组形状；<br/>\n",
    "random()产生指定范围的随机整数，第一，二个参数表示起始值和终值（不包括），第三个参数表示形状。<br/>"
   ]
  },
  {
   "cell_type": "code",
   "execution_count": 3,
   "metadata": {},
   "outputs": [
    {
     "data": {
      "text/plain": [
       "(array([[0.  , 0.33, 0.07],\n",
       "        [0.8 , 0.9 , 0.55],\n",
       "        [0.83, 0.99, 0.51],\n",
       "        [0.86, 0.52, 0.9 ]]),\n",
       " array([[-0.67,  0.54, -0.63],\n",
       "        [-1.19,  0.34, -0.07],\n",
       "        [-0.59,  0.82, -0.39],\n",
       "        [-0.98,  0.97,  0.71]]),\n",
       " array([[2, 1, 9],\n",
       "        [4, 5, 0],\n",
       "        [1, 9, 1],\n",
       "        [7, 7, 3]]))"
      ]
     },
     "execution_count": 3,
     "metadata": {},
     "output_type": "execute_result"
    }
   ],
   "source": [
    "import numpy as np\n",
    "from numpy import random as nr\n",
    "np.set_printoptions(precision = 2) #设置精度，显示小数点后两位数字\n",
    "r1 = nr.rand(4,3)\n",
    "r2 = nr.randn(4,3)\n",
    "r3 = nr.randint(0,10,(4,3))\n",
    "r1,r2,r3"
   ]
  },
  {
   "cell_type": "markdown",
   "metadata": {},
   "source": [
    "normal():产生正态分布随机数的数组，前两个参数分别表示期望值和标准差；<br/>\n",
    "uniform():产生均匀分布随机数的数组，前两个参数表示范围；<br/>\n",
    "poisson():产生泊松分布随机数的数组，第一个参数指定λ参数，表示单位时间（或单位面积）内随机事件的平均发生率，由于泊松分布是离散分布，因此它的输出为一个整数数组。<br/>\n",
    "这几个函数最后一个参数表示生成数组的形状。"
   ]
  },
  {
   "cell_type": "code",
   "execution_count": 6,
   "metadata": {},
   "outputs": [
    {
     "data": {
      "text/plain": [
       "(array([[ 77.1 , 102.5 ,  98.87],\n",
       "        [119.63,  96.47,  87.51],\n",
       "        [ 88.45,  85.27, 102.22],\n",
       "        [ 89.27, 102.69, 106.47]]),\n",
       " array([[14.53, 14.84, 17.55],\n",
       "        [14.67, 15.95, 18.16],\n",
       "        [13.54, 16.82, 16.54],\n",
       "        [15.72, 10.46, 11.47]]),\n",
       " array([[4, 2, 3],\n",
       "        [2, 4, 2],\n",
       "        [0, 2, 3],\n",
       "        [0, 0, 0]]))"
      ]
     },
     "execution_count": 6,
     "metadata": {},
     "output_type": "execute_result"
    }
   ],
   "source": [
    "r4 = nr.normal(100,10,(4,3))\n",
    "r5 = nr.uniform(10,20,(4,3))\n",
    "r6 = nr.poisson(2.0,(4,3))\n",
    "r4,r5,r6"
   ]
  },
  {
   "cell_type": "markdown",
   "metadata": {},
   "source": [
    "    permutation()用于产生乱序数组，参数为整数n时，返回[0,n)这几个整数的随机排列，当参数为序列时，返回该序列元素随机排列之后的序列。<br/>\n",
    "    permutation()返回一个新的数组，shuffle()直接将原数组打乱顺序。"
   ]
  },
  {
   "cell_type": "code",
   "execution_count": 15,
   "metadata": {},
   "outputs": [
    {
     "name": "stdout",
     "output_type": "stream",
     "text": [
      "[8 9 1 0 7 2 5 3 6 4]\n",
      "[10 20  0 30 40]\n",
      "[ 0 40 20 10 30]\n"
     ]
    }
   ],
   "source": [
    "a = np.arange(0,50,10)\n",
    "print(nr.permutation(10))\n",
    "print(nr.permutation(a))\n",
    "nr.shuffle(a)\n",
    "print(a)"
   ]
  },
  {
   "cell_type": "code",
   "execution_count": null,
   "metadata": {},
   "outputs": [],
   "source": []
  }
 ],
 "metadata": {
  "kernelspec": {
   "display_name": "Python 3",
   "language": "python",
   "name": "python3"
  },
  "language_info": {
   "codemirror_mode": {
    "name": "ipython",
    "version": 3
   },
   "file_extension": ".py",
   "mimetype": "text/x-python",
   "name": "python",
   "nbconvert_exporter": "python",
   "pygments_lexer": "ipython3",
   "version": "3.8.1"
  }
 },
 "nbformat": 4,
 "nbformat_minor": 4
}
