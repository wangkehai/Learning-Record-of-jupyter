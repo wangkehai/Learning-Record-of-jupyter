{
 "cells": [
  {
   "cell_type": "markdown",
   "metadata": {},
   "source": [
    "### 解线性方程组"
   ]
  },
  {
   "cell_type": "markdown",
   "metadata": {},
   "source": [
    "下面使用四种方法解**AX**=**B**."
   ]
  },
  {
   "cell_type": "markdown",
   "metadata": {},
   "source": [
    "方法一：numpy.linalg.solve()解线性方程组。"
   ]
  },
  {
   "cell_type": "code",
   "execution_count": 2,
   "metadata": {},
   "outputs": [
    {
     "name": "stdout",
     "output_type": "stream",
     "text": [
      "[[ -2.58691521 -32.35327683 -14.62583719]\n",
      " [  2.41692174  36.31208446  17.7219016 ]\n",
      " [  5.1835102   23.07569171   9.03629742]\n",
      " [ -3.12757631 -13.63944704  -4.89775531]\n",
      " [ -1.99925709  -3.81644655  -1.25167695]]\n"
     ]
    }
   ],
   "source": [
    "import numpy as np\n",
    "\n",
    "m, n = 5,3\n",
    "A = np.random.rand(m,m)\n",
    "B = np.random.rand(m,n)\n",
    "print(np.linalg.solve(A,B))"
   ]
  },
  {
   "cell_type": "markdown",
   "metadata": {},
   "source": [
    "方法二：先求A的逆矩阵，然后计算A逆矩阵和B的乘积。"
   ]
  },
  {
   "cell_type": "code",
   "execution_count": 3,
   "metadata": {},
   "outputs": [
    {
     "name": "stdout",
     "output_type": "stream",
     "text": [
      "[[ -2.58691521 -32.35327683 -14.62583719]\n",
      " [  2.41692174  36.31208446  17.7219016 ]\n",
      " [  5.1835102   23.07569171   9.03629742]\n",
      " [ -3.12757631 -13.63944704  -4.89775531]\n",
      " [ -1.99925709  -3.81644655  -1.25167695]]\n"
     ]
    }
   ],
   "source": [
    "Ai = np.linalg.inv(A)\n",
    "print(np.dot(Ai,B))"
   ]
  },
  {
   "cell_type": "markdown",
   "metadata": {},
   "source": [
    "方法三：scipy.linalg,solve()解线性方程。"
   ]
  },
  {
   "cell_type": "code",
   "execution_count": 4,
   "metadata": {},
   "outputs": [
    {
     "name": "stdout",
     "output_type": "stream",
     "text": [
      "[[ -2.58691521 -32.35327683 -14.62583719]\n",
      " [  2.41692174  36.31208446  17.7219016 ]\n",
      " [  5.1835102   23.07569171   9.03629742]\n",
      " [ -3.12757631 -13.63944704  -4.89775531]\n",
      " [ -1.99925709  -3.81644655  -1.25167695]]\n"
     ]
    }
   ],
   "source": [
    "from scipy import linalg\n",
    "print(linalg.solve(A,B))"
   ]
  },
  {
   "cell_type": "markdown",
   "metadata": {},
   "source": [
    "方法四：对矩阵A使用LU分解，利用lu_factor()和lu_solve()求解。"
   ]
  },
  {
   "cell_type": "code",
   "execution_count": 5,
   "metadata": {},
   "outputs": [
    {
     "name": "stdout",
     "output_type": "stream",
     "text": [
      "[[ -2.58691521 -32.35327683 -14.62583719]\n",
      " [  2.41692174  36.31208446  17.7219016 ]\n",
      " [  5.1835102   23.07569171   9.03629742]\n",
      " [ -3.12757631 -13.63944704  -4.89775531]\n",
      " [ -1.99925709  -3.81644655  -1.25167695]]\n"
     ]
    }
   ],
   "source": [
    "luf = linalg.lu_factor(A)\n",
    "print(linalg.lu_solve(luf,B))"
   ]
  },
  {
   "cell_type": "markdown",
   "metadata": {},
   "source": [
    "### 特征值和特征向量"
   ]
  },
  {
   "cell_type": "markdown",
   "metadata": {},
   "source": [
    "nxn的矩阵**A**可以看做n维空间的线性变换。若**x**为n维空间中的一个向量，那么**A**和**x**的矩阵乘积就是对**x**进行线性变化后的向量。如果线性变化后的新向量和**x**同一方向，则**x**是线性变化的特征向量，特征向量的长度在线性变化下缩放的比例称为特征值。即如下等式："
   ]
  },
  {
   "cell_type": "markdown",
   "metadata": {},
   "source": [
    "$$\\bf{Ax}=\\lambda \\bf{x}$$"
   ]
  },
  {
   "cell_type": "markdown",
   "metadata": {},
   "source": [
    "式中：A为线性变换，x为特征向量，λ为特征值。"
   ]
  },
  {
   "cell_type": "markdown",
   "metadata": {},
   "source": [
    "以二维平面上的线性变化矩阵为例，通过linalg.eig()函数计算矩阵A的两个特征值evalues和特征向量evectors,在evectors中每一行均为一特征向量。"
   ]
  },
  {
   "cell_type": "code",
   "execution_count": 6,
   "metadata": {},
   "outputs": [
    {
     "name": "stdout",
     "output_type": "stream",
     "text": [
      "[1.13027756+0.j 0.76972244+0.j]\n",
      "[[ 0.91724574  0.79325185]\n",
      " [-0.3983218   0.60889368]]\n"
     ]
    }
   ],
   "source": [
    "A = np.array([[1,-0.3],[-0.1,0.9]])\n",
    "evalues, evectors = linalg.eig(A)\n",
    "print(evalues)\n",
    "print(evectors)"
   ]
  },
  {
   "cell_type": "code",
   "execution_count": 38,
   "metadata": {},
   "outputs": [
    {
     "name": "stdout",
     "output_type": "stream",
     "text": [
      "[0.67927018 0.62220209]\n",
      "[0.81152256+0.j 0.7018204 +0.j]\n"
     ]
    }
   ],
   "source": [
    "print(np.dot(A,evectors[0]))\n",
    "print(evalues[0]*evectors[0])"
   ]
  },
  {
   "cell_type": "code",
   "execution_count": 10,
   "metadata": {},
   "outputs": [
    {
     "name": "stdout",
     "output_type": "stream",
     "text": [
      "[-0.5809899   0.58783649]\n",
      "[-0.30659723+0.j  0.46867912+0.j]\n"
     ]
    }
   ],
   "source": [
    "print(np.dot(A,evectors[1]))\n",
    "print(evalues[1]*evectors[1])"
   ]
  },
  {
   "cell_type": "code",
   "execution_count": 50,
   "metadata": {},
   "outputs": [
    {
     "data": {
      "image/png": "[encoded data removed]",
      "text/plain": [
       "<Figure size 432x288 with 1 Axes>"
      ]
     },
     "metadata": {
      "needs_background": "light"
     },
     "output_type": "display_data"
    }
   ],
   "source": [
    "import matplotlib.pyplot as plt\n",
    "plt.xlim(-100,100)\n",
    "plt.ylim(-100,100)\n",
    "plt.quiver(evectors[0][0],evectors[0][1],scale=1)\n",
    "plt.quiver(np.dot(A,evectors[0])[0],np.dot(A,evectors[0])[1],scale=1,color='red')\n",
    "plt.quiver(evectors[1][0],evectors[1][1],scale=1)\n",
    "plt.quiver(np.dot(A,evectors[1])[0],np.dot(A,evectors[1])[1],scale=1,color='red')\n",
    "plt.show()"
   ]
  }
 ],
 "metadata": {
  "kernelspec": {
   "display_name": "Python 3",
   "language": "python",
   "name": "python3"
  },
  "language_info": {
   "codemirror_mode": {
    "name": "ipython",
    "version": 3
   },
   "file_extension": ".py",
   "mimetype": "text/x-python",
   "name": "python",
   "nbconvert_exporter": "python",
   "pygments_lexer": "ipython3",
   "version": "3.8.1"
  }
 },
 "nbformat": 4,
 "nbformat_minor": 4
}
