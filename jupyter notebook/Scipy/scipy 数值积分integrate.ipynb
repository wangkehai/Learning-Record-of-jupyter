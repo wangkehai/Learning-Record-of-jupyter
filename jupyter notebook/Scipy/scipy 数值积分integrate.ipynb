{
 "cells": [
  {
   "cell_type": "markdown",
   "metadata": {},
   "source": [
    "### 定积分\n",
    "#### 计算半圆面积\n",
    "半圆函数为$y=\\sqrt{1-x^2}$，使用half_circle()函数表示半圆曲线。"
   ]
  },
  {
   "cell_type": "code",
   "execution_count": 1,
   "metadata": {},
   "outputs": [],
   "source": [
    "def half_circle(x):\n",
    "    return (1-x**2)**0.5"
   ]
  },
  {
   "cell_type": "markdown",
   "metadata": {},
   "source": [
    "#### 常规方法"
   ]
  },
  {
   "cell_type": "markdown",
   "metadata": {},
   "source": [
    "将要积分的面积分为许多小矩形， 然后计兑这些矩形的面积之和。下面使用这种方法，将 X 轴上-1到1的区间分为N等份，然后计算面积和："
   ]
  },
  {
   "cell_type": "code",
   "execution_count": 2,
   "metadata": {},
   "outputs": [
    {
     "data": {
      "text/plain": [
       "3.1415893269307373"
      ]
     },
     "execution_count": 2,
     "metadata": {},
     "output_type": "execute_result"
    }
   ],
   "source": [
    "import numpy as np\n",
    "N = 10000\n",
    "x = np.linspace(-1,1,N)\n",
    "dx=x[1]-x[0]\n",
    "y = half_circle(x)\n",
    "2 * dx * np.sum(y) #面积的两倍"
   ]
  },
  {
   "cell_type": "markdown",
   "metadata": {},
   "source": [
    "#### numpy.trapz函数\n",
    "trapz()函数用来计算各点围成的多边形的面积，trapz(x,y)计算的是曲线y和x轴围成的面积。"
   ]
  },
  {
   "cell_type": "code",
   "execution_count": 3,
   "metadata": {
    "scrolled": true
   },
   "outputs": [
    {
     "data": {
      "text/plain": [
       "3.1415893269315975"
      ]
     },
     "execution_count": 3,
     "metadata": {},
     "output_type": "execute_result"
    }
   ],
   "source": [
    "np.trapz(y,x)*2"
   ]
  },
  {
   "cell_type": "markdown",
   "metadata": {},
   "source": [
    "#### integrate.quad()数值积分"
   ]
  },
  {
   "cell_type": "code",
   "execution_count": 6,
   "metadata": {},
   "outputs": [
    {
     "data": {
      "text/plain": [
       "3.1415926535897967"
      ]
     },
     "execution_count": 6,
     "metadata": {},
     "output_type": "execute_result"
    }
   ],
   "source": [
    "from scipy import integrate\n",
    "pi_half,err = integrate.quad(half_circle,-1,1)\n",
    "pi_half*2"
   ]
  },
  {
   "cell_type": "markdown",
   "metadata": {},
   "source": [
    "### 多重积分"
   ]
  },
  {
   "cell_type": "markdown",
   "metadata": {},
   "source": [
    "多重定积分可通过多次调用quad()实现，为了计算方便，intergrate模块提供了dblquad()进行二重积分，tplquad()进行三重积分计算。以计算半球体积为例，说明dblpuad()的用法："
   ]
  },
  {
   "cell_type": "markdown",
   "metadata": {},
   "source": [
    "单变量积分计算："
   ]
  },
  {
   "cell_type": "code",
   "execution_count": 7,
   "metadata": {},
   "outputs": [
    {
     "name": "stdout",
     "output_type": "stream",
     "text": [
      "2.0943951023931957\n",
      "2.0943951023931953\n"
     ]
    }
   ],
   "source": [
    "def half_surface(x):\n",
    "    return 2*np.pi*x**2\n",
    "    \n",
    "N = 10000\n",
    "r = np.linspace(0,1,N)\n",
    "dr = r[1]-r[0]\n",
    "v=integrate.quad(half_surface,0,1)\n",
    "print(v[0])\n",
    "print(2/3*np.pi)"
   ]
  },
  {
   "cell_type": "markdown",
   "metadata": {},
   "source": [
    "使用dblquad()计算：\n",
    "单位半球体上的点(x,y,z)满足方程$x^2+y^2+z^2=1$,下面通过half_sphere()计算x-y坐标系中Z轴坐标值。"
   ]
  },
  {
   "cell_type": "code",
   "execution_count": 5,
   "metadata": {},
   "outputs": [],
   "source": [
    "def half_sphere(x,y):\n",
    "    return (1-x**2-y**2)**0.5"
   ]
  },
  {
   "cell_type": "markdown",
   "metadata": {},
   "source": [
    "x-y坐标系与球体交线为一圆，二重积分的计算区域为此单位圆，对于x轴从-1到1进行积分，对于y轴从-half_circle到half_circle积分，因此半球体积的积分表达方式为：\n",
    "$$\\int_0^1 {\\int_{-\\sqrt {1-x^2}}^{\\sqrt {1-x^2}}} {\\sqrt {1-x^2-y^2}} {\\rm d}y{\\rm d}x$$"
   ]
  },
  {
   "cell_type": "code",
   "execution_count": 9,
   "metadata": {},
   "outputs": [
    {
     "name": "stdout",
     "output_type": "stream",
     "text": [
      "2.0943951023931984 1.0002354500215915e-09 2.0943951023931953\n"
     ]
    }
   ],
   "source": [
    "volume,error = integrate.dblquad(half_sphere,-1,1,lambda x:-half_circle(x),lambda x:half_circle(x))\n",
    "print(volume,error,2/3*np.pi)"
   ]
  },
  {
   "cell_type": "markdown",
   "metadata": {},
   "source": [
    "dblpuad()调用参数表达方式为：dblpuad(func2d,a,b,gfun,hfun)。其中fun2d表示需要二重积分的函数，它有两个变量分别为x,y。a和b为第一个变量x的积分区间，gfun和hfun是第二个参数y的积分区间。gfun和hfun是函数，可通过变量x的函数计算出变量y的积分区间。"
   ]
  },
  {
   "cell_type": "markdown",
   "metadata": {},
   "source": [
    "![数值积分](.\\数值积分1.png)"
   ]
  },
  {
   "cell_type": "markdown",
   "metadata": {},
   "source": [
    "### 解常微分方程"
   ]
  },
  {
   "cell_type": "code",
   "execution_count": null,
   "metadata": {},
   "outputs": [],
   "source": []
  }
 ],
 "metadata": {
  "kernelspec": {
   "display_name": "Python 3",
   "language": "python",
   "name": "python3"
  },
  "language_info": {
   "codemirror_mode": {
    "name": "ipython",
    "version": 3
   },
   "file_extension": ".py",
   "mimetype": "text/x-python",
   "name": "python",
   "nbconvert_exporter": "python",
   "pygments_lexer": "ipython3",
   "version": "3.8.1"
  }
 },
 "nbformat": 4,
 "nbformat_minor": 4
}
