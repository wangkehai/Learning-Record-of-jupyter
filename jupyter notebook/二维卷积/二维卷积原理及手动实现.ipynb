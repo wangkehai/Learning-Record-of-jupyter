{
 "cells": [
  {
   "cell_type": "markdown",
   "metadata": {},
   "source": [
    "## 二维卷积的原理与手动编程实现"
   ]
  },
  {
   "cell_type": "markdown",
   "metadata": {},
   "source": [
    "### 前言"
   ]
  },
  {
   "cell_type": "markdown",
   "metadata": {},
   "source": [
    "二维卷积的使用非常广泛，不论是出现处理还是深度学习都有涉及。但是目前网上大多罗列公式，把其实简单的二维卷积操作搞的很复杂。本文用在不使用任何的公式情况下，明白二维卷积的使用方法，并能够用Matlab编程实现。"
   ]
  },
  {
   "cell_type": "markdown",
   "metadata": {},
   "source": [
    "### 二维卷积实现"
   ]
  },
  {
   "cell_type": "markdown",
   "metadata": {},
   "source": [
    "二维卷积实现可以分为两大步。一是预处理：将卷积核翻转180°，将原始数据扩边；二是滑动卷积计算。下面按这两个步骤分别说明："
   ]
  },
  {
   "cell_type": "markdown",
   "metadata": {},
   "source": [
    "### 预处理"
   ]
  },
  {
   "cell_type": "markdown",
   "metadata": {},
   "source": [
    "如图1所示即看的很明白。对卷积核翻转180°就是\"**上下翻转+左右翻转**\"；对原始数据的扩边其实就是为了\"补0\"好算，扩边括多大呢？就看原始数据\"左上角\"那个点，卷积核是3x3，那么左顶点一周也就要扩成3x3(卷积核中心和左顶点对齐后可以做\"**点乘**\")，也就是上、下各括边\"**fix(3/2) = 1**\"。"
   ]
  },
  {
   "cell_type": "markdown",
   "metadata": {},
   "source": [
    "![二维卷积1](.\\二维卷积1.png)"
   ]
  },
  {
   "cell_type": "markdown",
   "metadata": {},
   "source": [
    "### 滑动卷积计算"
   ]
  },
  {
   "cell_type": "markdown",
   "metadata": {},
   "source": [
    "滑动卷积计算，其实就是对应的\"两个小矩阵\"的\"**点乘并求和**\"。\"滑动\"是指：卷积核沿着\"**扩边后的原始数据**\"从左到右，从上到下进行。如图2所示："
   ]
  },
  {
   "cell_type": "markdown",
   "metadata": {},
   "source": [
    "![二维卷积2](.\\二维卷积2.png)"
   ]
  },
  {
   "cell_type": "markdown",
   "metadata": {},
   "source": [
    "完成上面两步，二维卷积就做完了！是不是很简单？根本不需要看复杂的公式~\n",
    "既然清楚了理论基础，那就用Matlab实践一下。"
   ]
  },
  {
   "cell_type": "markdown",
   "metadata": {},
   "source": [
    "```clc; clear;\n",
    "\n",
    "x = [-1 -2 -1;0 0 0;1 2 1];  % 卷积核——必须是方阵且为奇数行/列\n",
    "data = [1 2 3 4 5;6 7 8 9 10;11 12 13 14 15;16 17 18 19 20;21 22 23 24 25];  % 原始数据\n",
    "\n",
    "zidai = conv2(data,x,'same');  % matlab自带的二维卷积函数\n",
    "\n",
    "x = rot90(rot90(x));  % 新的卷积核\n",
    "\n",
    "% 核的尺寸\n",
    "size_x = size(x);\n",
    "row_x = size_x(1);  % 核的行数\n",
    "col_x = size_x(2);  % 核的列数\n",
    "% 数据的尺寸\n",
    "size_data = size(data);\n",
    "row_data = size_data(1);  % 数据的行数\n",
    "col_data = size_data(2);  % 数据的列数\n",
    "\n",
    "% 核的中心元素:\n",
    "centerx_row = round(row_x/2);\n",
    "centerx_col = round(col_x/2);\n",
    "centerx = x(centerx_row,centerx_col);\n",
    "\n",
    "% 对原始数据扩边:\n",
    "data_tmp = zeros(row_data+row_x-1,col_data+row_x-1);\n",
    "data_tmp(centerx_row:centerx_row+row_data-1,centerx_row:centerx_row+col_data-1) = data;\n",
    "data_k = data_tmp;\n",
    "% 扩边后新数据矩阵尺寸:\n",
    "size_data_k = size(data_k);\n",
    "row_data_k = size_data_k(1);\n",
    "col_data_k = size_data_k(2);\n",
    "\n",
    "% m = centerx_row:row_data+row_x-2\n",
    "% 开始卷积计算: m n 是新数据矩阵的正常索引\n",
    "result = zeros(row_data_k,col_data_k);\n",
    "% m n一般卷积步长都是1\n",
    "for m = centerx_row:centerx_row+row_data-1\n",
    "    for n = centerx_row:centerx_row+col_data-1\n",
    "        % tt是临时与卷积核大小相同的数据中的部分矩阵:\n",
    "        tt = data_k(m-(centerx_row-1):m+(centerx_row-1),n-(centerx_row-1):n+(centerx_row-1));\n",
    "        % juan是中间每一次卷积计算求和的中间量:\n",
    "        juan = sum(x.*tt);\n",
    "        result(m,n) = sum(juan(:));\n",
    "    end\n",
    "end\n",
    "\n",
    "% 求掉之前扩边的0:\n",
    "result = result(centerx_row:centerx_row+row_data-1,centerx_row:centerx_row+col_data-1)\n",
    "```"
   ]
  },
  {
   "cell_type": "markdown",
   "metadata": {},
   "source": [
    "***"
   ]
  },
  {
   "cell_type": "markdown",
   "metadata": {},
   "source": [
    "### 卷积神经网络（CNN）之一维卷积、二维卷积、三维卷积详解"
   ]
  },
  {
   "cell_type": "markdown",
   "metadata": {},
   "source": [
    "#### 1. 二维卷积"
   ]
  },
  {
   "cell_type": "markdown",
   "metadata": {},
   "source": [
    "![二维卷积3](.\\二维卷积3.PNG)"
   ]
  },
  {
   "cell_type": "markdown",
   "metadata": {},
   "source": [
    "* 图中的输入的数据维度为14×14，过滤器大小为5×5，二者做卷积，输出的数据维度为10×10（14−5+1=10）。如果你对卷积维度的计算不清楚，可以参考我之前的博客吴恩达深度学习笔记（deeplearning.ai）之卷积神经网络（CNN）（上）。\n",
    "\n",
    "\n",
    "* 上述内容没有引入channel的概念，也可以说channel的数量为1。如果将二维卷积中输入的channel的数量变为3，即输入的数据维度变为（14×14×3）。由于卷积操作中过滤器的channel数量必须与输入数据的channel数量相同，过滤器大小也变为5×5×3。在卷积的过程中，过滤器与数据在channel方向分别卷积，之后将卷积后的数值相加，即执行10×10次3个数值相加的操作，最终输出的数据维度为10×10。\n",
    "\n",
    "\n",
    "* 以上都是在过滤器数量为1的情况下所进行的讨论。如果将过滤器的数量增加至16，即16个大小为10×10×3的过滤器，最终输出的数据维度就变为10×10×16。可以理解为分别执行每个过滤器的卷积操作，最后将每个卷积的输出在第三个维度（channel 维度）上进行拼接。\n",
    "\n",
    "\n",
    "* 二维卷积常用于计算机视觉、图像处理领域。 "
   ]
  },
  {
   "cell_type": "markdown",
   "metadata": {},
   "source": [
    "#### 2.一维卷积"
   ]
  },
  {
   "cell_type": "markdown",
   "metadata": {},
   "source": [
    "![二维卷积4](.\\二维卷积4.PNG)"
   ]
  },
  {
   "cell_type": "markdown",
   "metadata": {},
   "source": [
    "* 图中的输入的数据维度为8，过滤器的维度为5。与二维卷积类似，卷积后输出的数据维度为8−5+1=4。\n",
    "\n",
    "\n",
    "* 如果过滤器数量仍为1，输入数据的channel数量变为16，即输入数据维度为8×16。这里channel的概念相当于自然语言处理中的embedding，而该输入数据代表8个单词，其中每个单词的词向量维度大小为16。在这种情况下，过滤器的维度由5变为5×16，最终输出的数据维度仍为4。\n",
    "\n",
    "\n",
    "* 如果过滤器数量为n，那么输出的数据维度就变为4×n。\n",
    "\n",
    "\n",
    "* 一维卷积常用于序列模型，自然语言处理领域。"
   ]
  },
  {
   "cell_type": "markdown",
   "metadata": {},
   "source": [
    "#### 3.三维卷积"
   ]
  },
  {
   "cell_type": "markdown",
   "metadata": {},
   "source": [
    "![二维卷积5](.\\二维卷积5.PNG)"
   ]
  },
  {
   "cell_type": "markdown",
   "metadata": {},
   "source": [
    "* 假设输入数据的大小为a1×a2×a3，channel数为c，过滤器大小为f，即过滤器维度为f×f×f×c（一般不写channel的维度），过滤器数量为n。\n",
    "\n",
    "\n",
    "* 基于上述情况，三维卷积最终的输出为(a1−f+1)×(a2−f+1)×(a3−f+1)×n。该公式对于一维卷积、二维卷积仍然有效，只有去掉不相干的输入数据维度就行。\n",
    "\n",
    "\n",
    "* 三维卷积常用于医学领域（CT影响），视频处理领域（检测动作及人物行为）。"
   ]
  }
 ],
 "metadata": {
  "kernelspec": {
   "display_name": "Python 3",
   "language": "python",
   "name": "python3"
  },
  "language_info": {
   "codemirror_mode": {
    "name": "ipython",
    "version": 3
   },
   "file_extension": ".py",
   "mimetype": "text/x-python",
   "name": "python",
   "nbconvert_exporter": "python",
   "pygments_lexer": "ipython3",
   "version": "3.8.1"
  }
 },
 "nbformat": 4,
 "nbformat_minor": 4
}
